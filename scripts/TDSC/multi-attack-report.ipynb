{
 "cells": [
  {
   "cell_type": "code",
   "execution_count": 16,
   "metadata": {},
   "outputs": [],
   "source": [
    "import numpy as np\n",
    "import seaborn as sns\n",
    "import pandas as pd\n",
    "import matplotlib.pyplot as plt\n",
    "import networkx as nx\n",
    "from itertools import product\n",
    "import os\n",
    "import sys\n",
    "from glob import iglob\n",
    "\n",
    "\n",
    "home_set = False\n",
    "\n",
    "SIM_HOME = os.path.join(os.path.expanduser(\"~\"), \"src/topology-programming\")\n",
    "\n",
    "os.chdir(SIM_HOME)\n",
    "\n",
    "RES_FOLDER = \"data/archive/multi-attack-ecmp-tuned-1-31-24/results\"\n",
    "REPORT_FOLDER = \"data/archive/multi-attack-ecmp-tuned-1-31-24/reports\"\n",
    "sys.path.insert(0, \"src/\")\n",
    "sys.path.insert(0, \"scripts/\")\n",
    "\n",
    "from onset.utilities.plot_reconfig_time import read_result_val\n",
    "from onset.utilities.plotters import *\n",
    "\n",
    "df_list = []\n",
    "for i, f in enumerate(iglob(REPORT_FOLDER + \"/*\")):\n",
    "    # if i == 3: break\n",
    "    if f.endswith(\".csv\"):\n",
    "        df_f = pd.read_csv(f)\n",
    "        df_list.append(df_f)\n",
    "\n",
    "report_df = pd.concat(df_list, axis=0)\n",
    "# [print(e) for e in report_df['Experiment']]"
   ]
  },
  {
   "cell_type": "code",
   "execution_count": 19,
   "metadata": {},
   "outputs": [
    {
     "data": {
      "text/html": [
       "<div>\n",
       "<style scoped>\n",
       "    .dataframe tbody tr th:only-of-type {\n",
       "        vertical-align: middle;\n",
       "    }\n",
       "\n",
       "    .dataframe tbody tr th {\n",
       "        vertical-align: top;\n",
       "    }\n",
       "\n",
       "    .dataframe thead th {\n",
       "        text-align: right;\n",
       "    }\n",
       "</style>\n",
       "<table border=\"1\" class=\"dataframe\">\n",
       "  <thead>\n",
       "    <tr style=\"text-align: right;\">\n",
       "      <th></th>\n",
       "      <th>Experiment</th>\n",
       "      <th>Iteration</th>\n",
       "      <th>ReconfigTime</th>\n",
       "      <th>Strategy</th>\n",
       "      <th>CandidateLinkSet</th>\n",
       "      <th>Routing</th>\n",
       "      <th>Defense</th>\n",
       "      <th>Congestion</th>\n",
       "      <th>Loss</th>\n",
       "      <th>Throughput</th>\n",
       "      <th>...</th>\n",
       "      <th>Demand Factor</th>\n",
       "      <th>Optimization Time</th>\n",
       "      <th>Doppler Optimization Time</th>\n",
       "      <th>Total Solutions</th>\n",
       "      <th>Optimal Topology ID</th>\n",
       "      <th>Current Topology ID</th>\n",
       "      <th>Doppler Min MLU</th>\n",
       "      <th>Doppler Multi-Sol Time</th>\n",
       "      <th>Multi-sol Best Solution</th>\n",
       "      <th>Multi-sol Min MLU</th>\n",
       "    </tr>\n",
       "  </thead>\n",
       "  <tbody>\n",
       "  </tbody>\n",
       "</table>\n",
       "<p>0 rows × 25 columns</p>\n",
       "</div>"
      ],
      "text/plain": [
       "Empty DataFrame\n",
       "Columns: [Experiment, Iteration, ReconfigTime, Strategy, CandidateLinkSet, Routing, Defense, Congestion, Loss, Throughput, Total Links Added, Links Added, Total Links Dropped, Links Dropped, Link Bandwidth Coefficient, Demand Factor, Optimization Time, Doppler Optimization Time, Total Solutions, Optimal Topology ID, Current Topology ID, Doppler Min MLU, Doppler Multi-Sol Time, Multi-sol Best Solution, Multi-sol Min MLU]\n",
       "Index: []\n",
       "\n",
       "[0 rows x 25 columns]"
      ]
     },
     "execution_count": 19,
     "metadata": {},
     "output_type": "execute_result"
    }
   ],
   "source": [
    "report_df[report_df[\"Throughput\"] > 1]"
   ]
  },
  {
   "cell_type": "code",
   "execution_count": null,
   "metadata": {},
   "outputs": [],
   "source": []
  }
 ],
 "metadata": {
  "kernelspec": {
   "display_name": ".venv",
   "language": "python",
   "name": "python3"
  },
  "language_info": {
   "codemirror_mode": {
    "name": "ipython",
    "version": 3
   },
   "file_extension": ".py",
   "mimetype": "text/x-python",
   "name": "python",
   "nbconvert_exporter": "python",
   "pygments_lexer": "ipython3",
   "version": "3.11.7"
  }
 },
 "nbformat": 4,
 "nbformat_minor": 2
}
