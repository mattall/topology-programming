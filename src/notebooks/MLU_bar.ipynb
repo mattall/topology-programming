{
 "cells": [
  {
   "cell_type": "code",
   "execution_count": 5,
   "metadata": {},
   "outputs": [
    {
     "data": {
      "text/plain": [
       "[   # solver                           iter  Solution ID  Max Link Util  stddev\n",
       " 0     -ecmp  Campus_0-0-1_1_0_0_0_Gbps_1.0            1       0.737123     NaN\n",
       " 1     -ecmp  Campus_0-0-1_1_0_0_0_Gbps_1.0            4       0.794886     NaN\n",
       " 2     -ecmp  Campus_0-0-1_1_0_0_0_Gbps_1.0            8       1.000000     NaN\n",
       " 3     -ecmp  Campus_0-0-1_1_0_0_0_Gbps_1.0           10       0.737123     NaN\n",
       " 4     -ecmp  Campus_0-0-1_1_0_0_0_Gbps_1.0           12       0.737123     NaN\n",
       " ..      ...                            ...          ...            ...     ...\n",
       " 77    -ecmp  Campus_0-0-1_1_0_0_0_Gbps_1.0           91       1.000000     NaN\n",
       " 78    -ecmp  Campus_0-0-1_1_0_0_0_Gbps_1.0           92       1.000000     NaN\n",
       " 79    -ecmp  Campus_0-0-1_1_0_0_0_Gbps_1.0           93       0.737123     NaN\n",
       " 80    -ecmp  Campus_0-0-1_1_0_0_0_Gbps_1.0           94       0.737123     NaN\n",
       " 81    -ecmp  Campus_0-0-1_1_0_0_0_Gbps_1.0           99       0.737123     NaN\n",
       " \n",
       " [82 rows x 5 columns],\n",
       "    # solver                           iter  Solution ID  Max Link Util  stddev\n",
       " 0      -mcf  Campus_0-0-1_1_0_0_0_Gbps_1.0            1       0.733806     NaN\n",
       " 1      -mcf  Campus_0-0-1_1_0_0_0_Gbps_1.0            2       0.733806     NaN\n",
       " 2      -mcf  Campus_0-0-1_1_0_0_0_Gbps_1.0            3       0.733806     NaN\n",
       " 3      -mcf  Campus_0-0-1_1_0_0_0_Gbps_1.0            4       0.733806     NaN\n",
       " 4      -mcf  Campus_0-0-1_1_0_0_0_Gbps_1.0            5       0.733806     NaN\n",
       " 5      -mcf  Campus_0-0-1_1_0_0_0_Gbps_1.0            6       0.733806     NaN\n",
       " 6      -mcf  Campus_0-0-1_1_0_0_0_Gbps_1.0            7       0.733806     NaN\n",
       " 7      -mcf  Campus_0-0-1_1_0_0_0_Gbps_1.0            8       0.733806     NaN\n",
       " 8      -mcf  Campus_0-0-1_1_0_0_0_Gbps_1.0            9       0.733806     NaN\n",
       " 9      -mcf  Campus_0-0-1_1_0_0_0_Gbps_1.0           10       0.733806     NaN\n",
       " 10     -mcf  Campus_0-0-1_1_0_0_0_Gbps_1.0           11       0.733806     NaN\n",
       " 11     -mcf  Campus_0-0-1_1_0_0_0_Gbps_1.0           12       0.733806     NaN\n",
       " 12     -mcf  Campus_0-0-1_1_0_0_0_Gbps_1.0           13       0.733806     NaN\n",
       " 13     -mcf  Campus_0-0-1_1_0_0_0_Gbps_1.0           14       0.733806     NaN\n",
       " 14     -mcf  Campus_0-0-1_1_0_0_0_Gbps_1.0           15       0.733806     NaN\n",
       " 15     -mcf  Campus_0-0-1_1_0_0_0_Gbps_1.0           16       0.733806     NaN\n",
       " 16     -mcf  Campus_0-0-1_1_0_0_0_Gbps_1.0           17       0.733806     NaN\n",
       " 17     -mcf  Campus_0-0-1_1_0_0_0_Gbps_1.0           18       0.733806     NaN\n",
       " 18     -mcf  Campus_0-0-1_1_0_0_0_Gbps_1.0           19       0.733806     NaN\n",
       " 19     -mcf  Campus_0-0-1_1_0_0_0_Gbps_1.0           20       0.733806     NaN\n",
       " 20     -mcf  Campus_0-0-1_1_0_0_0_Gbps_1.0           21       0.733806     NaN\n",
       " 21     -mcf  Campus_0-0-1_1_0_0_0_Gbps_1.0           22       0.733806     NaN\n",
       " 22     -mcf  Campus_0-0-1_1_0_0_0_Gbps_1.0           23       0.733806     NaN\n",
       " 23     -mcf  Campus_0-0-1_1_0_0_0_Gbps_1.0           24       0.733806     NaN\n",
       " 24     -mcf  Campus_0-0-1_1_0_0_0_Gbps_1.0           25       0.733806     NaN\n",
       " 25     -mcf  Campus_0-0-1_1_0_0_0_Gbps_1.0           26       0.733806     NaN\n",
       " 26     -mcf  Campus_0-0-1_1_0_0_0_Gbps_1.0           27       0.733806     NaN\n",
       " 27     -mcf  Campus_0-0-1_1_0_0_0_Gbps_1.0           28       0.733806     NaN\n",
       " 28     -mcf  Campus_0-0-1_1_0_0_0_Gbps_1.0           29       0.733806     NaN\n",
       " 29     -mcf  Campus_0-0-1_1_0_0_0_Gbps_1.0           30       0.733806     NaN\n",
       " 30     -mcf  Campus_0-0-1_1_0_0_0_Gbps_1.0           31       0.733806     NaN\n",
       " 31     -mcf  Campus_0-0-1_1_0_0_0_Gbps_1.0           32       0.733806     NaN\n",
       " 32     -mcf  Campus_0-0-1_1_0_0_0_Gbps_1.0           33       0.733806     NaN\n",
       " 33     -mcf  Campus_0-0-1_1_0_0_0_Gbps_1.0           34       0.733806     NaN\n",
       " 34     -mcf  Campus_0-0-1_1_0_0_0_Gbps_1.0           35       0.733806     NaN\n",
       " 35     -mcf  Campus_0-0-1_1_0_0_0_Gbps_1.0           36       0.733806     NaN\n",
       " 36     -mcf  Campus_0-0-1_1_0_0_0_Gbps_1.0           37       0.733806     NaN\n",
       " 37     -mcf  Campus_0-0-1_1_0_0_0_Gbps_1.0           38       0.733806     NaN\n",
       " 38     -mcf  Campus_0-0-1_1_0_0_0_Gbps_1.0           39       0.733806     NaN\n",
       " 39     -mcf  Campus_0-0-1_1_0_0_0_Gbps_1.0           40       0.733806     NaN\n",
       " 40     -mcf  Campus_0-0-1_1_0_0_0_Gbps_1.0           41       0.733806     NaN\n",
       " 41     -mcf  Campus_0-0-1_1_0_0_0_Gbps_1.0           42       0.733806     NaN\n",
       " 42     -mcf  Campus_0-0-1_1_0_0_0_Gbps_1.0           43       0.733806     NaN\n",
       " 43     -mcf  Campus_0-0-1_1_0_0_0_Gbps_1.0           44       0.733806     NaN\n",
       " 44     -mcf  Campus_0-0-1_1_0_0_0_Gbps_1.0           45       0.733806     NaN\n",
       " 45     -mcf  Campus_0-0-1_1_0_0_0_Gbps_1.0           46       0.733806     NaN\n",
       " 46     -mcf  Campus_0-0-1_1_0_0_0_Gbps_1.0           47       0.733806     NaN\n",
       " 47     -mcf  Campus_0-0-1_1_0_0_0_Gbps_1.0           48       0.733806     NaN\n",
       " 48     -mcf  Campus_0-0-1_1_0_0_0_Gbps_1.0           49       0.733806     NaN\n",
       " 49     -mcf  Campus_0-0-1_1_0_0_0_Gbps_1.0           51       0.733806     NaN\n",
       " 50     -mcf  Campus_0-0-1_1_0_0_0_Gbps_1.0           52       0.733806     NaN\n",
       " 51     -mcf  Campus_0-0-1_1_0_0_0_Gbps_1.0           53       0.733806     NaN\n",
       " 52     -mcf  Campus_0-0-1_1_0_0_0_Gbps_1.0           54       0.733806     NaN\n",
       " 53     -mcf  Campus_0-0-1_1_0_0_0_Gbps_1.0           56       0.733806     NaN\n",
       " 54     -mcf  Campus_0-0-1_1_0_0_0_Gbps_1.0           57       0.733806     NaN\n",
       " 55     -mcf  Campus_0-0-1_1_0_0_0_Gbps_1.0           58       0.733806     NaN\n",
       " 56     -mcf  Campus_0-0-1_1_0_0_0_Gbps_1.0           59       0.733806     NaN\n",
       " 57     -mcf  Campus_0-0-1_1_0_0_0_Gbps_1.0           60       0.733806     NaN\n",
       " 58     -mcf  Campus_0-0-1_1_0_0_0_Gbps_1.0           61       0.733806     NaN\n",
       " 59     -mcf  Campus_0-0-1_1_0_0_0_Gbps_1.0           72       0.733806     NaN]"
      ]
     },
     "execution_count": 5,
     "metadata": {},
     "output_type": "execute_result"
    }
   ],
   "source": [
    "from onset.utilities.plotters import *\n",
    "from io import StringIO\n",
    "import numpy as np\n",
    "files = ['/home/mhall/topology-programming/data/results/Campus_ecmp-Doppler-Campus-background-1_2__-ecmp/Campus_0-0-1_1_0_0_0_Gbps_1.0/DopplerMLU.dat', \"/home/mhall/topology-programming/data/results/Campus_mcf-Doppler-Campus-background-1_2__-mcf/Campus_0-0-1_1_0_0_0_Gbps_1.0/DopplerMLU.dat\"]\n",
    "dfs = [pd.read_csv(f, delimiter='\\t') for f in files]\n",
    "dfs"
   ]
  },
  {
   "cell_type": "code",
   "execution_count": 12,
   "metadata": {},
   "outputs": [
    {
     "data": {
      "text/plain": [
       "[<matplotlib.axis.YTick at 0x6e46191ee990>,\n",
       " <matplotlib.axis.YTick at 0x6e461920d3d0>,\n",
       " <matplotlib.axis.YTick at 0x6e4619211ad0>,\n",
       " <matplotlib.axis.YTick at 0x6e4616b2d4d0>,\n",
       " <matplotlib.axis.YTick at 0x6e4616b3f850>,\n",
       " <matplotlib.axis.YTick at 0x6e4616b4db50>,\n",
       " <matplotlib.axis.YTick at 0x6e4616b2e3d0>,\n",
       " <matplotlib.axis.YTick at 0x6e4616b54d10>,\n",
       " <matplotlib.axis.YTick at 0x6e4619132e90>,\n",
       " <matplotlib.axis.YTick at 0x6e4616b58810>,\n",
       " <matplotlib.axis.YTick at 0x6e4616b5aa10>]"
      ]
     },
     "execution_count": 12,
     "metadata": {},
     "output_type": "execute_result"
    },
    {
     "data": {
      "text/plain": [
       "<Figure size 300x500 with 0 Axes>"
      ]
     },
     "metadata": {},
     "output_type": "display_data"
    },
    {
     "data": {
      "image/png": "[encoded data removed]",
      "text/plain": [
       "<Figure size 300x500 with 1 Axes>"
      ]
     },
     "metadata": {},
     "output_type": "display_data"
    }
   ],
   "source": [
    "plt.clf()\n",
    "fig, ax = plt.subplots()\n",
    "sns.set(rc={'figure.figsize':(3, 4)})\n",
    "\n",
    "sns.boxplot(dfs[0][\"Max Link Util\"])\n",
    "# sns.boxplot([dfs[i][\"Max Link Util\"] for i in range(len(dfs))])\n",
    "\n",
    "# ax.set_xticklabels([str((i+1)/10) for i in range(len(dfs))])\n",
    "# ax.set_xlabel(\"Demand Scale\")\n",
    "ax.set_ylabel(\"Max Link Utilization\")\n",
    "ax.set_yticks([i/10 for i in range(11)])\n",
    "# [dfs[i][\"Max Link Util\"] for i in range(20)]\n",
    "\n"
   ]
  },
  {
   "cell_type": "code",
   "execution_count": 13,
   "metadata": {},
   "outputs": [],
   "source": [
    "df = dfs[0\n",
    "         ]"
   ]
  },
  {
   "cell_type": "code",
   "execution_count": 14,
   "metadata": {},
   "outputs": [
    {
     "data": {
      "text/html": [
       "<div>\n",
       "<style scoped>\n",
       "    .dataframe tbody tr th:only-of-type {\n",
       "        vertical-align: middle;\n",
       "    }\n",
       "\n",
       "    .dataframe tbody tr th {\n",
       "        vertical-align: top;\n",
       "    }\n",
       "\n",
       "    .dataframe thead th {\n",
       "        text-align: right;\n",
       "    }\n",
       "</style>\n",
       "<table border=\"1\" class=\"dataframe\">\n",
       "  <thead>\n",
       "    <tr style=\"text-align: right;\">\n",
       "      <th></th>\n",
       "      <th># solver</th>\n",
       "      <th>iter</th>\n",
       "      <th>Solution ID</th>\n",
       "      <th>Max Link Util</th>\n",
       "      <th>stddev</th>\n",
       "    </tr>\n",
       "  </thead>\n",
       "  <tbody>\n",
       "    <tr>\n",
       "      <th>0</th>\n",
       "      <td>-ecmp</td>\n",
       "      <td>Campus_0-0-1_1_0_0_0_Gbps_1.0</td>\n",
       "      <td>1</td>\n",
       "      <td>0.737123</td>\n",
       "      <td>NaN</td>\n",
       "    </tr>\n",
       "    <tr>\n",
       "      <th>1</th>\n",
       "      <td>-ecmp</td>\n",
       "      <td>Campus_0-0-1_1_0_0_0_Gbps_1.0</td>\n",
       "      <td>4</td>\n",
       "      <td>0.794886</td>\n",
       "      <td>NaN</td>\n",
       "    </tr>\n",
       "    <tr>\n",
       "      <th>2</th>\n",
       "      <td>-ecmp</td>\n",
       "      <td>Campus_0-0-1_1_0_0_0_Gbps_1.0</td>\n",
       "      <td>8</td>\n",
       "      <td>1.000000</td>\n",
       "      <td>NaN</td>\n",
       "    </tr>\n",
       "    <tr>\n",
       "      <th>3</th>\n",
       "      <td>-ecmp</td>\n",
       "      <td>Campus_0-0-1_1_0_0_0_Gbps_1.0</td>\n",
       "      <td>10</td>\n",
       "      <td>0.737123</td>\n",
       "      <td>NaN</td>\n",
       "    </tr>\n",
       "    <tr>\n",
       "      <th>4</th>\n",
       "      <td>-ecmp</td>\n",
       "      <td>Campus_0-0-1_1_0_0_0_Gbps_1.0</td>\n",
       "      <td>12</td>\n",
       "      <td>0.737123</td>\n",
       "      <td>NaN</td>\n",
       "    </tr>\n",
       "    <tr>\n",
       "      <th>...</th>\n",
       "      <td>...</td>\n",
       "      <td>...</td>\n",
       "      <td>...</td>\n",
       "      <td>...</td>\n",
       "      <td>...</td>\n",
       "    </tr>\n",
       "    <tr>\n",
       "      <th>77</th>\n",
       "      <td>-ecmp</td>\n",
       "      <td>Campus_0-0-1_1_0_0_0_Gbps_1.0</td>\n",
       "      <td>91</td>\n",
       "      <td>1.000000</td>\n",
       "      <td>NaN</td>\n",
       "    </tr>\n",
       "    <tr>\n",
       "      <th>78</th>\n",
       "      <td>-ecmp</td>\n",
       "      <td>Campus_0-0-1_1_0_0_0_Gbps_1.0</td>\n",
       "      <td>92</td>\n",
       "      <td>1.000000</td>\n",
       "      <td>NaN</td>\n",
       "    </tr>\n",
       "    <tr>\n",
       "      <th>79</th>\n",
       "      <td>-ecmp</td>\n",
       "      <td>Campus_0-0-1_1_0_0_0_Gbps_1.0</td>\n",
       "      <td>93</td>\n",
       "      <td>0.737123</td>\n",
       "      <td>NaN</td>\n",
       "    </tr>\n",
       "    <tr>\n",
       "      <th>80</th>\n",
       "      <td>-ecmp</td>\n",
       "      <td>Campus_0-0-1_1_0_0_0_Gbps_1.0</td>\n",
       "      <td>94</td>\n",
       "      <td>0.737123</td>\n",
       "      <td>NaN</td>\n",
       "    </tr>\n",
       "    <tr>\n",
       "      <th>81</th>\n",
       "      <td>-ecmp</td>\n",
       "      <td>Campus_0-0-1_1_0_0_0_Gbps_1.0</td>\n",
       "      <td>99</td>\n",
       "      <td>0.737123</td>\n",
       "      <td>NaN</td>\n",
       "    </tr>\n",
       "  </tbody>\n",
       "</table>\n",
       "<p>82 rows × 5 columns</p>\n",
       "</div>"
      ],
      "text/plain": [
       "   # solver                           iter  Solution ID  Max Link Util  stddev\n",
       "0     -ecmp  Campus_0-0-1_1_0_0_0_Gbps_1.0            1       0.737123     NaN\n",
       "1     -ecmp  Campus_0-0-1_1_0_0_0_Gbps_1.0            4       0.794886     NaN\n",
       "2     -ecmp  Campus_0-0-1_1_0_0_0_Gbps_1.0            8       1.000000     NaN\n",
       "3     -ecmp  Campus_0-0-1_1_0_0_0_Gbps_1.0           10       0.737123     NaN\n",
       "4     -ecmp  Campus_0-0-1_1_0_0_0_Gbps_1.0           12       0.737123     NaN\n",
       "..      ...                            ...          ...            ...     ...\n",
       "77    -ecmp  Campus_0-0-1_1_0_0_0_Gbps_1.0           91       1.000000     NaN\n",
       "78    -ecmp  Campus_0-0-1_1_0_0_0_Gbps_1.0           92       1.000000     NaN\n",
       "79    -ecmp  Campus_0-0-1_1_0_0_0_Gbps_1.0           93       0.737123     NaN\n",
       "80    -ecmp  Campus_0-0-1_1_0_0_0_Gbps_1.0           94       0.737123     NaN\n",
       "81    -ecmp  Campus_0-0-1_1_0_0_0_Gbps_1.0           99       0.737123     NaN\n",
       "\n",
       "[82 rows x 5 columns]"
      ]
     },
     "execution_count": 14,
     "metadata": {},
     "output_type": "execute_result"
    }
   ],
   "source": [
    "df"
   ]
  },
  {
   "cell_type": "code",
   "execution_count": 20,
   "metadata": {},
   "outputs": [
    {
     "data": {
      "text/plain": [
       "<Axes: ylabel='Max Link Util'>"
      ]
     },
     "execution_count": 20,
     "metadata": {},
     "output_type": "execute_result"
    },
    {
     "data": {
      "image/png": "[encoded data removed]",
      "text/plain": [
       "<Figure size 300x400 with 1 Axes>"
      ]
     },
     "metadata": {},
     "output_type": "display_data"
    }
   ],
   "source": [
    "sns.boxplot(df, y=\"Max Link Util\")"
   ]
  },
  {
   "cell_type": "code",
   "execution_count": 22,
   "metadata": {},
   "outputs": [
    {
     "data": {
      "text/plain": [
       "<Axes: xlabel='Max Link Util', ylabel='Count'>"
      ]
     },
     "execution_count": 22,
     "metadata": {},
     "output_type": "execute_result"
    },
    {
     "data": {
      "image/png": "[encoded data removed]",
      "text/plain": [
       "<Figure size 300x400 with 1 Axes>"
      ]
     },
     "metadata": {},
     "output_type": "display_data"
    }
   ],
   "source": [
    "sns.histplot(df[\"Max Link Util\"])"
   ]
  },
  {
   "cell_type": "code",
   "execution_count": null,
   "metadata": {},
   "outputs": [],
   "source": [
    "data = "
   ]
  }
 ],
 "metadata": {
  "kernelspec": {
   "display_name": ".venv",
   "language": "python",
   "name": "python3"
  },
  "language_info": {
   "codemirror_mode": {
    "name": "ipython",
    "version": 3
   },
   "file_extension": ".py",
   "mimetype": "text/x-python",
   "name": "python",
   "nbconvert_exporter": "python",
   "pygments_lexer": "ipython3",
   "version": "3.11.5"
  }
 },
 "nbformat": 4,
 "nbformat_minor": 2
}
